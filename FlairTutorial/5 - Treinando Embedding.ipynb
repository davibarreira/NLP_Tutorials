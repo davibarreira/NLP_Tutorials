{
 "cells": [
  {
   "cell_type": "markdown",
   "id": "15f7b3e0-b698-4dc6-b30b-1986c78190ff",
   "metadata": {},
   "source": [
    "# **NLP com Flair**\n",
    "Este tutorial é baseado no livro \"Natural Language Processing with Flair\".\n",
    "\n",
    "# 5 - Treinando Embedding\n",
    "\n",
    "Vamos treinar o Flair Embedding em um corpus nosso. O Flair Embedding é a última camada de uma rede LSTM,\n",
    "portanto, podemos treiná-lo. Além disso, o modelo funciona prevendo caracteres. Portanto,\n",
    "só precisamos passar para ele os caracteres possíveis.\n",
    "\n",
    "Já temos um modelo treinado em português, logo, não faz sentido treinar do zero. Invés disso, vamos\n",
    "fazer o Fine-Tuning do Flair Embedding existente."
   ]
  },
  {
   "cell_type": "markdown",
   "id": "5872195c-504c-466b-addc-0500841c0a7f",
   "metadata": {},
   "source": [
    "Vamos importar nosso corpus leNER-Br. Vamos retirar os labels NER, e ficar somente com os textos."
   ]
  },
  {
   "cell_type": "code",
   "execution_count": 3,
   "id": "01a88068-d5e6-4164-a26b-ea4dab855535",
   "metadata": {},
   "outputs": [
    {
     "name": "stdout",
     "output_type": "stream",
     "text": [
      "2022-10-20 15:30:38,371 Reading data from /home/davibarreira/MEGA/resolvvi/lener-br/leNER-Br\n",
      "2022-10-20 15:30:38,373 Train: /home/davibarreira/MEGA/resolvvi/lener-br/leNER-Br/train/train.conll\n",
      "2022-10-20 15:30:38,375 Dev: /home/davibarreira/MEGA/resolvvi/lener-br/leNER-Br/dev/dev.conll\n",
      "2022-10-20 15:30:38,376 Test: /home/davibarreira/MEGA/resolvvi/lener-br/leNER-Br/test/test.conll\n"
     ]
    }
   ],
   "source": [
    "from flair.data import Corpus\n",
    "from flair.datasets import ColumnCorpus\n",
    "from os.path import join\n",
    "from flair.embeddings import FlairEmbeddings\n",
    "\n",
    "columns = {0: 'text', 1: 'ner'}\n",
    "\n",
    "# this is the folder in which train, test and dev files reside\n",
    "data_folder = '/home/davibarreira/MEGA/resolvvi/lener-br/leNER-Br/'\n",
    "\n",
    "# init a corpus using column format, data folder and the names of the train, dev and test files\n",
    "corpus: Corpus = ColumnCorpus(data_folder, columns,\n",
    "                              train_file='train/train.conll',\n",
    "                              test_file='test/test.conll',\n",
    "                              dev_file='dev/dev.conll')\n",
    "\n",
    "with open(join('./models/corpus/train', \"train_split_1\"), \"w\") as file:\n",
    "    file.write('\\n'.join([t.text for t in corpus.train]))\n",
    "with open(join('./models/corpus/', \"test.txt\"), \"w\") as file:\n",
    "    file.write('\\n'.join([t.text for t in corpus.test]))\n",
    "with open(join('./models/corpus/', \"valid.txt\"), \"w\") as file:\n",
    "    file.write('\\n'.join([t.text for t in corpus.dev]))"
   ]
  },
  {
   "cell_type": "markdown",
   "id": "ae8bebca-a375-4519-b68d-bc46cd54a3af",
   "metadata": {},
   "source": [
    "### Treinando Language Model"
   ]
  },
  {
   "cell_type": "code",
   "execution_count": 4,
   "id": "fbdfda86-25fd-4f45-885a-43b595397960",
   "metadata": {},
   "outputs": [],
   "source": [
    "from flair.trainers.language_model_trainer import LanguageModelTrainer, TextCorpus\n",
    "from flair.data import Dictionary\n",
    "\n",
    "# Aqui temos o dicionario de caracteres possiveis\n",
    "dictionary = Dictionary.load('chars')\n",
    "\n",
    "language_model = FlairEmbeddings('pt-forward').lm\n",
    "\n",
    "# are you fine-tuning a forward or backward LM?\n",
    "is_forward_lm = language_model.is_forward_lm"
   ]
  },
  {
   "cell_type": "code",
   "execution_count": 37,
   "id": "c0595ed9-1832-4481-a847-5d882aa29c52",
   "metadata": {},
   "outputs": [
    {
     "name": "stdout",
     "output_type": "stream",
     "text": [
      "2022-10-20 09:25:46,241 read text file with 1176 lines\n",
      "2022-10-20 09:25:46,358 read text file with 1389 lines\n"
     ]
    }
   ],
   "source": [
    "# get your corpus, process forward and at the character level\n",
    "corpus = TextCorpus('./models/corpus/',\n",
    "                    dictionary,\n",
    "                    is_forward_lm,\n",
    "                    character_level=True)"
   ]
  },
  {
   "cell_type": "code",
   "execution_count": null,
   "id": "83e5d003-cdb6-4d73-acec-74f6bc5141da",
   "metadata": {},
   "outputs": [
    {
     "name": "stdout",
     "output_type": "stream",
     "text": [
      "2022-10-20 09:28:23,553 read text file with 7827 lines\n",
      "2022-10-20 09:28:23,560 shuffled\n",
      "2022-10-20 09:28:24,056 Sequence length is 100\n",
      "2022-10-20 09:28:24,070 Split 1\t - (09:28:24)\n",
      "2022-10-20 09:31:59,525 | split   1/  1 |   100/  129 batches | ms/batch 2154.46 | loss 1.0735 | ppl 2.9257\n",
      "2022-10-20 09:33:19,592 best split so far\n",
      "2022-10-20 09:33:19,593 best loss so far 0.91870340\n",
      "2022-10-20 09:33:31,030 ('\\nConforme credibilidade da cópia legal no que diz respeito ao artigo 23A , PERTO P 7 e 1/53 , o plano jurídico é particularisod entidade enviada a anotadora perfumesctune RELVAS brasileiro que presta assinaturas que lhe engames a mais de 100 ( SR.7 BR ) - esta HP é vista como uma relação de participação em Saúde .\\nPara se valorizar o vencimento dos recursos concorrentes sessões de 12/05/2017 à SIM , é que o horário especial havia sido embargado para a responsabilidade das contas ser validadas , o valor das informações para a Sentença de final a diuturtações consiste na indicação de estes subprocurados , tornando o agravante a seguinte relatora : decisão no Ministério Público Federal São Paulo , 21 de outubro de 2008 .\\nSe houver pleito o documento deve ser seguido por Diego Biapclass , presidente da Agência .\\nEu-soh Reg.an .\\na procuradoria-Geral da União , aos anos iniciais de incidência das normas correlatas de normas de meridianos , em 1335-12 , sendo NJU : NCO .\\nEstudante em Linguagen', 1.0474019775390624)\n",
      "2022-10-20 09:33:31,243 -----------------------------------------------------------------------------------------\n",
      "2022-10-20 09:33:31,244 | end of split   1 /  1 | epoch   1 | time: 307.19s | valid loss 0.9187 | valid ppl 2.5060 | learning rate 20.0000\n",
      "2022-10-20 09:33:31,245 -----------------------------------------------------------------------------------------\n",
      "2022-10-20 09:33:31,246 307 seconds for train split 1\n",
      "2022-10-20 09:33:31,326 Epoch time: 307.96\n",
      "2022-10-20 09:33:31,894 read text file with 7827 lines\n",
      "2022-10-20 09:33:31,901 shuffled\n",
      "2022-10-20 09:33:32,626 Sequence length is 100\n",
      "2022-10-20 09:33:32,643 Split 1\t - (09:33:32)\n",
      "2022-10-20 09:37:16,843 | split   1/  1 |   100/  129 batches | ms/batch 2241.96 | loss 0.9298 | ppl 2.5340\n",
      "2022-10-20 09:38:40,303 best split so far\n",
      "2022-10-20 09:38:40,307 best loss so far 0.87835248\n",
      "2022-10-20 09:38:51,853 ('\\nOi Firme em Brasília e organizado pelo Laylaz , no prédio interior da Avenida Padre Nunes Muitas de Plantão , Zona Central do Tocantins .\\nDescumprimento dos requisitos providos após , subitamente , em face do que ocorrido em Matricula Pública , devendo , tendo em vista a existência de provas verificadas em testemunhas de que deveríamos beneficiar de autos .\\nREFIS HÃ - Tinalizando-se representado uma estrita relevância em relação ao entendimento pontuado ( c ) com base em realidade esteja condicionado que é vedada a procedência de constrangimento do interesse comercial .\\nUM E DIREITO NOGRO.PHP , RELATOR DE OJUR : MIN . FRANCISCO GIBRAN MOREIRA DA SILVA .\\nRevoga a Publicação desta Lei de Direito Civil e Constituição da República , com relação aos acordo estruturais , e negou previsto no art . 33 da Lei Nº 11.722/1993 : ( JOSE AGRAVADO : DEFESA VOTO EM VALDEMIRO .\\n2 .\\nConsiderem os embargos de declaração recursais no Decreto nº 5.216 , de 26 de novembro de 2001 , e 964 do PARTTOLDA PODER ', 0.9046622924804687)\n",
      "2022-10-20 09:38:52,099 -----------------------------------------------------------------------------------------\n",
      "2022-10-20 09:38:52,103 | end of split   1 /  1 | epoch   2 | time: 319.47s | valid loss 0.8784 | valid ppl 2.4069 | learning rate 20.0000\n",
      "2022-10-20 09:38:52,108 -----------------------------------------------------------------------------------------\n",
      "2022-10-20 09:38:52,111 319 seconds for train split 1\n",
      "2022-10-20 09:38:52,228 Epoch time: 320.90\n",
      "2022-10-20 09:38:52,595 read text file with 7827 lines\n",
      "2022-10-20 09:38:52,602 shuffled\n",
      "2022-10-20 09:38:53,437 Sequence length is 100\n",
      "2022-10-20 09:38:53,451 Split 1\t - (09:38:53)\n",
      "2022-10-20 09:42:42,779 | split   1/  1 |   100/  129 batches | ms/batch 2293.25 | loss 0.8792 | ppl 2.4089\n",
      "2022-10-20 09:44:07,742 best split so far\n",
      "2022-10-20 09:44:07,748 best loss so far 0.86903880\n",
      "2022-10-20 09:44:19,230 ('\\n( fls . 1328 e 1963 ) , para afixar seus bares e o seu discurso o rapaz e tampando a leitura do termo de arrecadação , conforme os artigos 1 ... ( predisposição medida contrária ) : use consonância de banco também finalizada .\\nPor regular o objetivo inicial de telefônica , entendimento aplicado no método excludente de contratação de projetos de pesquisa e de capacitação , acessórios e certificados escritos e avançados , por falta de um documento atendido sem a intervenção de ato de determinação .\\nMuitos deles prestam as horas externas com os documentos solicite atestados legais , ou dos tipos exigíveis que possam ocasionar negativas de que , para comprovar o entendimento dos autos não consegui antecipar o pedido , meios de apresentação .\\nObrigação , confirmada o autor , na regularidade de fundamentos não conhecidos .\\nEXIGIDO : O Art . 42 da Lei 8.461/98 é abordado em caráter contratual e ativo baseado nas verbas contidas no delito empresarial da causa , sem que seja observado o cuidado', 0.8444654541015625)\n",
      "2022-10-20 09:44:19,464 -----------------------------------------------------------------------------------------\n",
      "2022-10-20 09:44:19,466 | end of split   1 /  1 | epoch   3 | time: 326.03s | valid loss 0.8690 | valid ppl 2.3846 | learning rate 20.0000\n",
      "2022-10-20 09:44:19,467 -----------------------------------------------------------------------------------------\n",
      "2022-10-20 09:44:19,468 326 seconds for train split 1\n",
      "2022-10-20 09:44:19,593 Epoch time: 327.36\n",
      "2022-10-20 09:44:19,957 read text file with 7827 lines\n",
      "2022-10-20 09:44:19,967 shuffled\n",
      "2022-10-20 09:44:20,809 Sequence length is 100\n",
      "2022-10-20 09:44:20,830 Split 1\t - (09:44:20)\n",
      "2022-10-20 09:48:13,021 | split   1/  1 |   100/  129 batches | ms/batch 2321.87 | loss 0.8483 | ppl 2.3357\n",
      "2022-10-20 09:49:38,236 best split so far\n",
      "2022-10-20 09:49:38,241 best loss so far 0.85738614\n",
      "2022-10-20 09:49:49,718 ('\\n1 - Resolver circular do mesmo trajeto dos autos do Hospital ( a noite de manobras ou depois ou na empresa ; uma vez prestar contas ) .\\n02 .\\nATORIS EATRES DA ADSE E FAZENDA PÚBLICA .\\nNão gostaria de usar a quantidade de diferentes atividades e fazer provas em tempo de passar .\\nLuis De Alcântara , outro que , pois , e o tribunal direto da Avance entusiasta os processos policiais ou unidade móvel e evidenciadas em teor evidenciado com base em área de transporte velho , instituídos pelo instituto de controle de políticas públicas não é a mesma regra ( nos termos do art . 33 da Constituição Federal .\\n( Des ) .\\nAos bons coelhos , essas iniciativas , nos anos de 2012 , exceto pela Subseção Agravante ROBERTO DE AGUIAR AMARANTE Conceição , salientam controvérsia objetiva , entre eles o desprovimento de cartova constante desta Comissão Ação Civil Pública , conhecida como PR transcreve no Termo de Deserção , e a sessão esta segunda determina à Guiá da Defesa coletar demonstrar alegações para faz', 0.9540751953125)\n",
      "2022-10-20 09:49:49,948 -----------------------------------------------------------------------------------------\n",
      "2022-10-20 09:49:49,954 | end of split   1 /  1 | epoch   4 | time: 329.14s | valid loss 0.8574 | valid ppl 2.3570 | learning rate 20.0000\n",
      "2022-10-20 09:49:49,985 -----------------------------------------------------------------------------------------\n",
      "2022-10-20 09:49:49,986 329 seconds for train split 1\n",
      "2022-10-20 09:49:50,087 Epoch time: 330.49\n",
      "2022-10-20 09:49:50,453 read text file with 7827 lines\n",
      "2022-10-20 09:49:50,464 shuffled\n",
      "2022-10-20 09:49:51,306 Sequence length is 100\n",
      "2022-10-20 09:49:51,331 Split 1\t - (09:49:51)\n",
      "2022-10-20 09:53:46,838 | split   1/  1 |   100/  129 batches | ms/batch 2355.02 | loss 0.8112 | ppl 2.2507\n",
      "2022-10-20 09:55:13,108 best loss so far 0.85738614\n",
      "2022-10-20 09:55:24,547 ('\\nem que arranco a praia da acupunturi , a pensar em fazer um pouco de faringida , deleneba-los , pessoas que tem prova conjugada atraves da improvididade da suposta violência castrense , a qual é bem assim <unk> restará simples agente maior , entendido que o bem conhecido faz habeas corpus vales satisfeita , por fiscalização por empresa contratada e concedente , ao entender a controvérsia sobre a validade do contrato de compra e venda da categoria anterior concedida ao delito de deserção do locatário .\\nNão se vê na quadra quarta e da exploração de elementos das contratações de contribuição previdenciária mais justas e com o professor Atendimento AO Menor ; responsável técnico em seu evangelismo no Direito Laboral , com a Constituição Federal em 19.4.2010 ; A Câmara Desportiva , lançando então pela internet com efeitos sanitários e que esta Instituição reconhece a admissibilidade da definição dos itens 100 e 300 do ( s ) regional ( s ) .\\nACÓRDÃO Votante : Ministro Ricardo Lewandowski Salvado', 0.84126708984375)\n",
      "2022-10-20 09:55:24,799 -----------------------------------------------------------------------------------------\n",
      "2022-10-20 09:55:24,801 | end of split   1 /  1 | epoch   5 | time: 333.49s | valid loss 0.8626 | valid ppl 2.3692 | learning rate 20.0000\n",
      "2022-10-20 09:55:24,802 -----------------------------------------------------------------------------------------\n",
      "2022-10-20 09:55:24,808 333 seconds for train split 1\n",
      "2022-10-20 09:55:24,929 Epoch time: 334.84\n",
      "2022-10-20 09:55:25,397 read text file with 7827 lines\n",
      "2022-10-20 09:55:25,409 shuffled\n",
      "2022-10-20 09:55:26,410 Sequence length is 100\n",
      "2022-10-20 09:55:26,428 Split 1\t - (09:55:26)\n",
      "2022-10-20 09:59:18,528 | split   1/  1 |   100/  129 batches | ms/batch 2320.95 | loss 0.8033 | ppl 2.2328\n",
      "2022-10-20 10:00:43,702 best split so far\n",
      "2022-10-20 10:00:43,703 best loss so far 0.85624854\n",
      "2022-10-20 10:00:55,165 ('\\nORKUT : FLAG - Vistos , relatados e discutidos estes autos de Anardeias de Brasília e Aetos , devem prestar contas da sexta turma , órgãos prestados por empresas de tecnologia , que atuarão no partido , e não somente para avaliar a qualidade de negociação , a entidade de origem , e os agentes corporativos , seus objetivos ou atividades , tais como , processo eleitoral , julgamento eleitoral junto à Respectiva Diligência .\\nCabe à MP- Pronúncia validar a veiculação persona partido representante do Partido em caráter permanente , sendo a parte interessada que devolva o que convistam anteriormente .\\nConfigurada a reforma da defesa na fls . 684 , esta Verba Lidiman foi substituída pelo PMDB e se afasta do subitem 2.3.42 do RISTNC 810 2026-15519-2000 , explicitando-se que as restrições tem jus haviam direito alhada ao e... E para o qual deveria ser parado : ( ADA 618313-25.2017.5.16.0001/RJ 125220 ) .\\n_ GAAHTUNA PRESTES A ADVERSAR-SE O TERMO DE DESERÇÃO .\\nINVOCAÇÃO DE LICITAÇÃO MALICIADA NA ', 0.931173095703125)\n",
      "2022-10-20 10:00:55,406 -----------------------------------------------------------------------------------------\n",
      "2022-10-20 10:00:55,410 | end of split   1 /  1 | epoch   6 | time: 329.00s | valid loss 0.8562 | valid ppl 2.3543 | learning rate 20.0000\n",
      "2022-10-20 10:00:55,413 -----------------------------------------------------------------------------------------\n",
      "2022-10-20 10:00:55,414 329 seconds for train split 1\n",
      "2022-10-20 10:00:55,525 Epoch time: 330.60\n",
      "2022-10-20 10:00:55,898 read text file with 7827 lines\n",
      "2022-10-20 10:00:55,908 shuffled\n",
      "2022-10-20 10:00:57,004 Sequence length is 100\n",
      "2022-10-20 10:00:57,035 Split 1\t - (10:00:57)\n",
      "2022-10-20 10:04:47,993 | split   1/  1 |   100/  129 batches | ms/batch 2309.54 | loss 0.7823 | ppl 2.1865\n",
      "2022-10-20 10:06:12,786 best loss so far 0.85624854\n",
      "2022-10-20 10:06:24,388 (\"\\nO enunciado de clarisse , na Administração do Município , com teor alcoólico residual voluntário Inominas de Plano R ' 0 BRASÍLIA DEM-CRIOI A Copa o trecho não da apelação no pregão eletrônico 45/2014 , em negar provimento ao Documento .\\nNo caso , a Apelação teria sido prestada no final da promoção com o reconhecimento da defesa prévia , contrariando a sua validade , pelo qual delimitou-se de ser suspeito : a ) , quando a essência da criação de um Artista , mesmo podendo criar um providenciamento entre as razões a que ele continha depois relevante , admite entendimento de que em nenhuma das hipóteses , as obrigações procedentes é cautelar e homologamos devida e proporcionalmente o apelo .\\nPugna pela negativa de prestação jurisdicional de Juiz , por maioria .\\nPerceberam , sobretudo , um julgado respeitado ( Art . 4 ) .\\nDESDE QUE APRESENTEMOS SERVIÇOS DE VÍTIMA , CONDUTA VÊDIDA RAZOÁVEL BONIFICA .\\nIMPOSSIBILIDADE .\\n4ª CBPN .\\nParlamentar , desde a proteção ao restrito ao exame familiar e \", 0.88842431640625)\n",
      "2022-10-20 10:06:24,724 -----------------------------------------------------------------------------------------\n",
      "2022-10-20 10:06:24,732 | end of split   1 /  1 | epoch   7 | time: 327.72s | valid loss 0.8583 | valid ppl 2.3592 | learning rate 20.0000\n",
      "2022-10-20 10:06:24,733 -----------------------------------------------------------------------------------------\n",
      "2022-10-20 10:06:24,738 327 seconds for train split 1\n",
      "2022-10-20 10:06:24,892 Epoch time: 329.37\n",
      "2022-10-20 10:06:25,444 read text file with 7827 lines\n",
      "2022-10-20 10:06:25,458 shuffled\n",
      "2022-10-20 10:06:26,642 Sequence length is 100\n",
      "2022-10-20 10:06:26,667 Split 1\t - (10:06:26)\n",
      "2022-10-20 10:10:17,816 | split   1/  1 |   100/  129 batches | ms/batch 2311.46 | loss 0.7675 | ppl 2.1544\n",
      "2022-10-20 10:11:43,050 best split so far\n",
      "2022-10-20 10:11:43,064 best loss so far 0.85278786\n",
      "2022-10-20 10:11:54,889 ('\\nLOCANDO VAGAS LIMITADAS A SERVIDOR PÚBLICO DO ESTADO DE MINAS GERAIS / RELATOR .\\nTalento segundo a iniciativa e , consequentemente , este percentual , por sua vez , levou o leitor aos passos ao militar , além de considerar vislumbrado o \" corgundo \\'\\' , conforme critério de cabalhos mencionados , 189 , 436 e 481 .\\n5 .\\nPeço indenização por danos morais produzido em agravo de instrumento .\\nAtravés da consumação do Contrato de Trabalho , refaz , de ofícial e a divergência jurisprudencial e o pector à constitucionalidade e objeto da promulgação do Estatuto .\\nPura Essência , assento 11 .\\nPENAL .\\nDOUTRINA JURÍDICA .\\nDÉSTINAÇÃO DE PREVALÊNCIA DO TCU .\\nBrasília , 10 de novembro de 2015 .\\n1.3 .\\nSentença que suscita a extensão da disciplina em sua última audiência , além de atender as incompetências da Segunda Câmara Cível 8 , da Resolução n° 25/220 , permite ao Deputado General Costa construir o resseguro .\\nPremiosa Autora .\\nEm relação ao parâmetro , foi consignado na consulta ao inadimplemento ', 0.8173660888671875)\n",
      "2022-10-20 10:11:55,240 -----------------------------------------------------------------------------------------\n",
      "2022-10-20 10:11:55,275 | end of split   1 /  1 | epoch   8 | time: 328.63s | valid loss 0.8528 | valid ppl 2.3462 | learning rate 20.0000\n",
      "2022-10-20 10:11:55,281 -----------------------------------------------------------------------------------------\n",
      "2022-10-20 10:11:55,285 328 seconds for train split 1\n",
      "2022-10-20 10:11:55,436 Epoch time: 330.54\n",
      "2022-10-20 10:11:55,891 read text file with 7827 lines\n",
      "2022-10-20 10:11:55,904 shuffled\n",
      "2022-10-20 10:11:57,030 Sequence length is 100\n",
      "2022-10-20 10:11:57,051 Split 1\t - (10:11:57)\n"
     ]
    }
   ],
   "source": [
    "# use the model trainer to fine-tune this model on your corpus\n",
    "trainer = LanguageModelTrainer(language_model, corpus)\n",
    "\n",
    "trainer.train('resources/taggers/language_model',\n",
    "              sequence_length=100,\n",
    "              mini_batch_size=100,\n",
    "              learning_rate=20,\n",
    "              patience=10,\n",
    "              checkpoint=True)"
   ]
  },
  {
   "cell_type": "markdown",
   "id": "20d370b6-582f-4627-87c7-312eb7988c37",
   "metadata": {},
   "source": [
    "## Importando Modelo Treinado\n",
    "\n",
    "Vamos importar nosso modelo."
   ]
  },
  {
   "cell_type": "code",
   "execution_count": 6,
   "id": "bd6fc14a-a4a6-4a85-a92b-8bd27e280489",
   "metadata": {},
   "outputs": [],
   "source": [
    "fw = FlairEmbeddings('./resources/taggers/language_model/best-lm.pt')\n",
    "from flair.data import Sentence"
   ]
  }
 ],
 "metadata": {
  "kernelspec": {
   "display_name": "nlp",
   "language": "python",
   "name": "nlp"
  },
  "language_info": {
   "codemirror_mode": {
    "name": "ipython",
    "version": 3
   },
   "file_extension": ".py",
   "mimetype": "text/x-python",
   "name": "python",
   "nbconvert_exporter": "python",
   "pygments_lexer": "ipython3",
   "version": "3.9.13"
  }
 },
 "nbformat": 4,
 "nbformat_minor": 5
}
